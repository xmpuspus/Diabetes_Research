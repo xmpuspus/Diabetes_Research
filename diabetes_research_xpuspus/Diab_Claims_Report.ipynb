{
 "cells": [
  {
   "cell_type": "markdown",
   "metadata": {},
   "source": [
    "# Prediction of Diabetes Claims"
   ]
  },
  {
   "cell_type": "markdown",
   "metadata": {},
   "source": [
    "### Abstract"
   ]
  },
  {
   "cell_type": "markdown",
   "metadata": {},
   "source": [
    "The objective is to test the feasibility of using data collected from DR, IP and OP claims for building models for predicting diabetes. Using the demographic and diagnosis codes of over 50 thousand continuously enrolled patients from the year 2014 to 2015, different ensemble methods were applied to predict the likelihood of developing diabetes by year 2016. An AUC of 79% was achieved using a 100-tree random forest with a prediction accuracy of 94%. Forecasting diabetes diagnosis can potentially allow the automated identification of high-risk populations and possible prevention of further development of diabetes through pre-emptive adjustments in lifestyle such as a healthy diet and regular exercise. The study shows that predicting diabetes using machine learning is feasible."
   ]
  },
  {
   "cell_type": "markdown",
   "metadata": {},
   "source": [
    "### Diabetes Milletus"
   ]
  },
  {
   "cell_type": "markdown",
   "metadata": {},
   "source": [
    "Diabetes Mellitus, more commonly known as Diabetes, is a disease in which the body is no longer able to carefully control the blood glucose levels.  Increased blood glucose levels (hyperglycemia) can cause damage to the body’s tissues, including the nerves, blood vessels, and tissues in the eyes. [1] Data from 2014 reveals that Diabetes is the 7th highest cause of death in the US. [2]"
   ]
  },
  {
   "cell_type": "markdown",
   "metadata": {},
   "source": [
    "##### Three Types of Diabetes  \n",
    " \n",
    "Type 1 Diabetes – also called insulin dependent diabetes mellitus, is an autoimmune condition where the body’s immune system misidentifies the insulin-producing cells in the pancreas and attacks these cells. [3]  \n",
    " \n",
    "Type 2 Diabetes – also called non-insulin dependent diabetes mellitus, is attributed to the resistance of the body to insulin because of chronic high blood glucose levels.  \n",
    " \n",
    "Gestational Diabetes – a form of glucose intolerance diagnosed in some women during pregnancy. [4]  \n"
   ]
  },
  {
   "cell_type": "markdown",
   "metadata": {},
   "source": [
    "### Problem Statement\n",
    "\n",
    "We want to see if its possible to predict, using machine learning techniques, the possible diagnosis of diabetes of a patient in the next year given his/her insurance claims data from the past 2 years."
   ]
  },
  {
   "cell_type": "code",
   "execution_count": 20,
   "metadata": {},
   "outputs": [],
   "source": [
    "import pandas as pd\n",
    "import numpy as np\n",
    "import matplotlib.pyplot as plt\n",
    "import seaborn as sns\n",
    "sns.set()\n",
    "%matplotlib inline\n",
    "from IPython.display import Image"
   ]
  },
  {
   "cell_type": "markdown",
   "metadata": {},
   "source": [
    "### Building the Dataset"
   ]
  },
  {
   "cell_type": "markdown",
   "metadata": {},
   "source": [
    "The full database is in pdb_IMPACT. It containts the tables we need to construct the dataset:  \n",
    "\n",
    "##### Tables\n",
    "1. Commercial IP Claims\n",
    "2. Commercial DR Claims\n",
    "3. Commercial OP Claims\n",
    "4. Commercial Members\n",
    "5. Diagnosis Crosswalk"
   ]
  },
  {
   "cell_type": "markdown",
   "metadata": {},
   "source": [
    "The first 4 contains data from commercial insurance claims. For this dataset, we use only the fields like demographics (age, gender), insurance allowable amount, service date (year, month, day), and the first diagnosis (diagnosis code). We take only the members that are continuously enrolled from 2014 to 2016 which results to around 50k unique patients.  "
   ]
  },
  {
   "cell_type": "markdown",
   "metadata": {},
   "source": [
    "#### Prepping the Data for Machine Learning"
   ]
  },
  {
   "cell_type": "markdown",
   "metadata": {},
   "source": [
    "For this research, we will be building a binary classification model. To construct the input, we take the claims data from 2014 to 2015 of patients who have been diagnosed with diabetes in 2016. These will have a y-value (output) of 1. Conversely, those who have no diagnosis of diabetes from 2014 through to 2016 will have a y-value of 0. Around 3% of the data is diabetic and the rest (97%) is non-diabetic which gives us an extremely imbalanced dataset. The details of pre-processing the tables is in the notebook *FULL_IMPACT*."
   ]
  },
  {
   "cell_type": "markdown",
   "metadata": {},
   "source": [
    "#### Diagnosis Codes and AHRQ Codes"
   ]
  },
  {
   "cell_type": "markdown",
   "metadata": {},
   "source": [
    "The main feature used in creating the dataset is the AHRQ (Agency for Healthcare Research and Quality) codes which was based on the first diagnosis code (Diag_CD_1) of each claim.  We initially thought of using the ICD-10 codes as our feature sets but it contained around 25000+ unique codes so it is not advisable to do one-hot-encoding on it.  This led us to the AHRQ codes which aggregates diagnosis codes into more general disease codes.  This resulted to around 300+ AHRQ codes of which ‘49’ is labelled as a diabetes mellitus diagnosis."
   ]
  },
  {
   "cell_type": "markdown",
   "metadata": {},
   "source": [
    "#### Load Data"
   ]
  },
  {
   "cell_type": "markdown",
   "metadata": {},
   "source": [
    "The input dataframe was pickled and re-loaded below."
   ]
  },
  {
   "cell_type": "code",
   "execution_count": 10,
   "metadata": {},
   "outputs": [],
   "source": [
    "X = pd.read_pickle('X_diab.pkl')"
   ]
  },
  {
   "cell_type": "code",
   "execution_count": 12,
   "metadata": {
    "collapsed": true
   },
   "outputs": [],
   "source": [
    "no = 2890010 #no diabetes\n",
    "di = 90376 #with diabetes\n",
    "y = np.concatenate([np.array([0]*no), np.array([1]*di)])"
   ]
  },
  {
   "cell_type": "markdown",
   "metadata": {},
   "source": [
    "#### Sample Claims Data"
   ]
  },
  {
   "cell_type": "markdown",
   "metadata": {},
   "source": [
    "The 2-data-point dataframe below shows a sample of the input claims data which shows the allowable amount, age, AHRQ codes in one-hot representation, the source claims (DR, IP, OP), and the Gender (is_Diab is dropped through the pipeline. Although it doesn't matter since is_Diab is false for all $X$ regardless of $y$)."
   ]
  },
  {
   "cell_type": "code",
   "execution_count": 13,
   "metadata": {},
   "outputs": [
    {
     "data": {
      "text/html": [
       "<div>\n",
       "<table border=\"1\" class=\"dataframe\">\n",
       "  <thead>\n",
       "    <tr style=\"text-align: right;\">\n",
       "      <th></th>\n",
       "      <th>Allw_Amt</th>\n",
       "      <th>Age</th>\n",
       "      <th>1</th>\n",
       "      <th>2</th>\n",
       "      <th>3</th>\n",
       "      <th>4</th>\n",
       "      <th>5</th>\n",
       "      <th>6</th>\n",
       "      <th>7</th>\n",
       "      <th>8</th>\n",
       "      <th>...</th>\n",
       "      <th>2609</th>\n",
       "      <th>2610</th>\n",
       "      <th>2611</th>\n",
       "      <th>2617</th>\n",
       "      <th>9999</th>\n",
       "      <th>DR</th>\n",
       "      <th>IP</th>\n",
       "      <th>OP</th>\n",
       "      <th>is_Diab</th>\n",
       "      <th>Gdr</th>\n",
       "    </tr>\n",
       "  </thead>\n",
       "  <tbody>\n",
       "    <tr>\n",
       "      <th>0</th>\n",
       "      <td>3.35</td>\n",
       "      <td>50</td>\n",
       "      <td>0.0</td>\n",
       "      <td>0.0</td>\n",
       "      <td>0.0</td>\n",
       "      <td>0.0</td>\n",
       "      <td>0.0</td>\n",
       "      <td>0.0</td>\n",
       "      <td>0.0</td>\n",
       "      <td>0.0</td>\n",
       "      <td>...</td>\n",
       "      <td>0.0</td>\n",
       "      <td>0.0</td>\n",
       "      <td>0.0</td>\n",
       "      <td>0.0</td>\n",
       "      <td>0.0</td>\n",
       "      <td>1.0</td>\n",
       "      <td>0.0</td>\n",
       "      <td>0.0</td>\n",
       "      <td>False</td>\n",
       "      <td>True</td>\n",
       "    </tr>\n",
       "    <tr>\n",
       "      <th>1</th>\n",
       "      <td>102.09</td>\n",
       "      <td>50</td>\n",
       "      <td>0.0</td>\n",
       "      <td>0.0</td>\n",
       "      <td>0.0</td>\n",
       "      <td>0.0</td>\n",
       "      <td>0.0</td>\n",
       "      <td>0.0</td>\n",
       "      <td>0.0</td>\n",
       "      <td>0.0</td>\n",
       "      <td>...</td>\n",
       "      <td>0.0</td>\n",
       "      <td>0.0</td>\n",
       "      <td>0.0</td>\n",
       "      <td>0.0</td>\n",
       "      <td>0.0</td>\n",
       "      <td>1.0</td>\n",
       "      <td>0.0</td>\n",
       "      <td>0.0</td>\n",
       "      <td>False</td>\n",
       "      <td>True</td>\n",
       "    </tr>\n",
       "  </tbody>\n",
       "</table>\n",
       "<p>2 rows × 278 columns</p>\n",
       "</div>"
      ],
      "text/plain": [
       "   Allw_Amt Age    1    2    3    4    5    6    7    8  ...   2609  2610  \\\n",
       "0      3.35  50  0.0  0.0  0.0  0.0  0.0  0.0  0.0  0.0  ...    0.0   0.0   \n",
       "1    102.09  50  0.0  0.0  0.0  0.0  0.0  0.0  0.0  0.0  ...    0.0   0.0   \n",
       "\n",
       "   2611  2617  9999   DR   IP   OP  is_Diab   Gdr  \n",
       "0   0.0   0.0   0.0  1.0  0.0  0.0    False  True  \n",
       "1   0.0   0.0   0.0  1.0  0.0  0.0    False  True  \n",
       "\n",
       "[2 rows x 278 columns]"
      ]
     },
     "execution_count": 13,
     "metadata": {},
     "output_type": "execute_result"
    }
   ],
   "source": [
    "X.head(2)"
   ]
  },
  {
   "cell_type": "markdown",
   "metadata": {},
   "source": [
    "### Visualizing the Data"
   ]
  },
  {
   "cell_type": "markdown",
   "metadata": {},
   "source": [
    "#### Age Distribution"
   ]
  },
  {
   "cell_type": "code",
   "execution_count": 15,
   "metadata": {},
   "outputs": [
    {
     "data": {
      "image/png": "[encoded data removed]",
      "text/plain": [
       "<matplotlib.figure.Figure at 0x7f332ef85630>"
      ]
     },
     "metadata": {},
     "output_type": "display_data"
    }
   ],
   "source": [
    "\n",
    "fig, ax1 = plt.subplots(figsize = (8,8))\n",
    "ax1.hist(X[y == 1]['Age'].as_matrix().astype(float), alpha = 0.5, label = 'Diabetic', color = 'g', width = 5)\n",
    "\n",
    "ax1.set_ylabel('# of Diabetic Patients', color='g')\n",
    "ax1.set_xlabel('Age')\n",
    "ax1.legend(loc  =2)\n",
    "ax2 = ax1.twinx()\n",
    "ax2.hist(X[y == 0]['Age'].as_matrix().astype(float), alpha = 0.5, label = 'non-Diabetic', color='r', width = 5)\n",
    "ax2.set_ylabel('# of non-Diabetic Patients', color='r')\n",
    "# ax2.set_ylim(0, 1)\n",
    "ax2.set_xlabel('Age')\n",
    "fig.tight_layout()\n",
    "ax2.legend(loc = 1)\n",
    "plt.show()"
   ]
  },
  {
   "cell_type": "markdown",
   "metadata": {},
   "source": [
    "The plot above is a 2-axis histogram of age for both the diabetic and non-diabetic groups. We split the visual into 2 axes since there's around 33 times more non-diabetic claims datapoints than diabetic. We see that the non-diabetic group has more datapoints in the younger range as compared to its mode than the diabetic group.  "
   ]
  },
  {
   "cell_type": "markdown",
   "metadata": {},
   "source": [
    "#### Gender Distribution"
   ]
  },
  {
   "cell_type": "code",
   "execution_count": 18,
   "metadata": {},
   "outputs": [
    {
     "data": {
      "image/png": "[encoded data removed]",
      "text/plain": [
       "<matplotlib.figure.Figure at 0x7f332ef0ba58>"
      ]
     },
     "metadata": {},
     "output_type": "display_data"
    }
   ],
   "source": [
    "\n",
    "fig, ax1 = plt.subplots(figsize = (8,8))\n",
    "ax1.hist(X[y == 1]['Gdr'].as_matrix().astype(int), alpha = 0.5, label = 'Diabetic', color = 'g', width = .5)\n",
    "ax1.set_xticks([0.25, 1.15])\n",
    "\n",
    "ax1.set_ylabel('# of Diabetic Patients', color='g')\n",
    "ax1.set_xlabel('Gender')\n",
    "\n",
    "ax1.set_xlim(0, 1.5)\n",
    "ax1.set_xticklabels(['Female', 'Male'])\n",
    "ax2 = ax1.twinx()\n",
    "ax2.hist(X[y == 0]['Gdr'].as_matrix().astype(int), alpha = 0.5, label = 'non-Diabetic', color='r', width = .3)\n",
    "ax2.set_ylabel('# of non-Diabetic Patients', color='r')\n",
    "\n",
    "ax2.set_xlabel('Gender')\n",
    "ax2.set_xlim(0, 1.5)\n",
    "ax2.set_xticklabels(['Female', 'Male'])\n",
    "fig.tight_layout()\n",
    "\n",
    "plt.show()"
   ]
  },
  {
   "cell_type": "markdown",
   "metadata": {},
   "source": [
    "### Training the Data"
   ]
  },
  {
   "cell_type": "markdown",
   "metadata": {},
   "source": [
    "We split the dataset into train-test 60%-40%. To fix the imbalance, we use Synthetic Minority Over-Sampling Technique (SMOTE) on the training data. "
   ]
  },
  {
   "cell_type": "markdown",
   "metadata": {},
   "source": [
    "#### Models Used"
   ]
  },
  {
   "cell_type": "markdown",
   "metadata": {},
   "source": [
    "We used different methods such as logistic regression, random forest, decision trees, XG Boost classifiers, etc. Random forest with 100 trees was the best classifier with 79.3% AUC of the ROC curve with 94% prediction accuracy."
   ]
  },
  {
   "cell_type": "code",
   "execution_count": 24,
   "metadata": {},
   "outputs": [
    {
     "data": {
      "image/png": "[encoded data removed]",
      "text/plain": [
       "<IPython.core.display.Image object>"
      ]
     },
     "execution_count": 24,
     "metadata": {},
     "output_type": "execute_result"
    }
   ],
   "source": [
    "Image('ROC_RF_100_X.png')"
   ]
  },
  {
   "cell_type": "markdown",
   "metadata": {},
   "source": [
    "The figure above is the ROC curve of the ramdom forest model trained on tha dataset. the x-axis is the false positive rate and the y-axis is the true positive rate. The more the curve tends to go up and to the right, the better the model. The green diagonal line shows the result when a model performs at its worst."
   ]
  },
  {
   "cell_type": "markdown",
   "metadata": {},
   "source": [
    "### Feature Importance"
   ]
  },
  {
   "cell_type": "code",
   "execution_count": 25,
   "metadata": {},
   "outputs": [
    {
     "data": {
      "image/png": "[encoded data removed]",
      "text/plain": [
       "<IPython.core.display.Image object>"
      ]
     },
     "execution_count": 25,
     "metadata": {},
     "output_type": "execute_result"
    }
   ],
   "source": [
    "Image('feat_10.png')"
   ]
  },
  {
   "cell_type": "markdown",
   "metadata": {},
   "source": [
    "Using the feature importance module of the random forest, the plot above shows the top 10 most important features of model:  \n",
    "1. Age (int)\n",
    "2. Allowable Amount (float)\n",
    "3. Gender (boolean)\n",
    "4. Transport; not MVT (boolean)\n",
    "5. DR claim (boolean)\n",
    "6. OP claim (boolean)\n",
    "7. Spondylosis; intervertebral disc disorders; other back problems\n",
    "8. Essential Hypertension\n",
    "9. Medical examination/evaluation\n",
    "10. Other connective tissue disease"
   ]
  },
  {
   "cell_type": "markdown",
   "metadata": {},
   "source": [
    "### Dimensionality Reduction"
   ]
  },
  {
   "cell_type": "markdown",
   "metadata": {},
   "source": [
    "Using principal component analysis (PCA), we reduce the number of features from 300+ to 10, 20 and 30 and observe the corresponding ROC curves, AUCs and accuracies. We also compare the results to using just the top 50 important features, just the AHRQ onehot features and just the demographics as inputs to the model."
   ]
  },
  {
   "cell_type": "code",
   "execution_count": 31,
   "metadata": {},
   "outputs": [
    {
     "data": {
      "text/html": [
       "<div>\n",
       "<table border=\"1\" class=\"dataframe\">\n",
       "  <thead>\n",
       "    <tr style=\"text-align: right;\">\n",
       "      <th></th>\n",
       "      <th>Accuracy</th>\n",
       "      <th>AUC</th>\n",
       "    </tr>\n",
       "  </thead>\n",
       "  <tbody>\n",
       "    <tr>\n",
       "      <th>X</th>\n",
       "      <td>0.940408</td>\n",
       "      <td>0.790451</td>\n",
       "    </tr>\n",
       "    <tr>\n",
       "      <th>X_pca_10</th>\n",
       "      <td>0.938742</td>\n",
       "      <td>0.784960</td>\n",
       "    </tr>\n",
       "    <tr>\n",
       "      <th>X_pca_20</th>\n",
       "      <td>0.937558</td>\n",
       "      <td>0.788886</td>\n",
       "    </tr>\n",
       "    <tr>\n",
       "      <th>X_pca_30</th>\n",
       "      <td>0.936822</td>\n",
       "      <td>0.789591</td>\n",
       "    </tr>\n",
       "    <tr>\n",
       "      <th>X_feats_50</th>\n",
       "      <td>0.922305</td>\n",
       "      <td>0.752309</td>\n",
       "    </tr>\n",
       "    <tr>\n",
       "      <th>X_demog</th>\n",
       "      <td>0.857654</td>\n",
       "      <td>0.712812</td>\n",
       "    </tr>\n",
       "    <tr>\n",
       "      <th>X_AHRQ</th>\n",
       "      <td>0.583232</td>\n",
       "      <td>0.650922</td>\n",
       "    </tr>\n",
       "  </tbody>\n",
       "</table>\n",
       "</div>"
      ],
      "text/plain": [
       "            Accuracy       AUC\n",
       "X           0.940408  0.790451\n",
       "X_pca_10    0.938742  0.784960\n",
       "X_pca_20    0.937558  0.788886\n",
       "X_pca_30    0.936822  0.789591\n",
       "X_feats_50  0.922305  0.752309\n",
       "X_demog     0.857654  0.712812\n",
       "X_AHRQ      0.583232  0.650922"
      ]
     },
     "execution_count": 31,
     "metadata": {},
     "output_type": "execute_result"
    }
   ],
   "source": [
    "pd.read_pickle('acc_auc.pkl')"
   ]
  },
  {
   "cell_type": "markdown",
   "metadata": {},
   "source": [
    "The dataframe above shows the result of using specific sets of features as inputs to a 100-tree random forest classifier. $X$, the full-featured input, performed the best while a close second is the same $X$ reduced, through PCA, to 10 dimensions or features of greatest variance."
   ]
  },
  {
   "cell_type": "code",
   "execution_count": 32,
   "metadata": {},
   "outputs": [
    {
     "data": {
      "image/png": "[encoded data removed]",
      "text/plain": [
       "<IPython.core.display.Image object>"
      ]
     },
     "execution_count": 32,
     "metadata": {},
     "output_type": "execute_result"
    }
   ],
   "source": [
    "Image('acc_auc_feat.png')"
   ]
  },
  {
   "cell_type": "markdown",
   "metadata": {},
   "source": [
    "It can be seen from the graph above that reducing the dimensions of the input $X$ doesn't have a significant effect the resulting accuracy and AUC. Using just the AHRQ onehot features performed the worst followed by using just the demographics. From this, we can perform much faster runs since we can now use just 10 dimensions instead of 300+."
   ]
  },
  {
   "cell_type": "markdown",
   "metadata": {},
   "source": [
    "### Conclusion"
   ]
  },
  {
   "cell_type": "markdown",
   "metadata": {},
   "source": [
    "We have shown the feasibility of using machine learning and health insurance claims data from the previous 2 years to predict the diagnosis of diabetes in the following year. We obtained a prediction accuracy of 94% with AUC at 79% using a 100-tree random forest. We have also shown that reduction of the number of features through PCA doesn't significantly reduce the accuracy and AUC of the model resulting in faster training times and lesser memory allocations."
   ]
  }
 ],
 "metadata": {
  "kernelspec": {
   "display_name": "Python [conda env:cgm-research]",
   "language": "python",
   "name": "conda-env-cgm-research-py"
  },
  "language_info": {
   "codemirror_mode": {
    "name": "ipython",
    "version": 3
   },
   "file_extension": ".py",
   "mimetype": "text/x-python",
   "name": "python",
   "nbconvert_exporter": "python",
   "pygments_lexer": "ipython3",
   "version": "3.5.2"
  }
 },
 "nbformat": 4,
 "nbformat_minor": 2
}
